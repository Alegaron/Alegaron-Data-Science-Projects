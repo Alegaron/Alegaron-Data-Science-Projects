{
 "cells": [
  {
   "cell_type": "markdown",
   "metadata": {
    "collapsed": true
   },
   "source": [
    "# Game Project: Blackjack\n",
    "Below code includes the overall steps to build this game - In this particular solution OOP has been used"
   ]
  },
  {
   "cell_type": "markdown",
   "metadata": {},
   "source": [
    "## Game Play\n",
    "To play a hand of Blackjack the following steps must be followed:\n",
    "1. Create a deck of 52 cards\n",
    "2. Shuffle the deck\n",
    "3. Ask the Player for their bet\n",
    "4. Make sure that the Player's bet does not exceed their available chips\n",
    "5. Deal two cards to the Dealer and two cards to the Player\n",
    "6. Show only one of the Dealer's cards, the other remains hidden\n",
    "7. Show both of the Player's cards\n",
    "8. Ask the Player if they wish to Hit, and take another card\n",
    "9. If the Player's hand doesn't Bust (go over 21), ask if they'd like to Hit again.\n",
    "10. If a Player Stands, play the Dealer's hand. The dealer will always Hit until the Dealer's value meets or exceeds 17\n",
    "11. Determine the winner and adjust the Player's chips accordingly\n",
    "12. Ask the Player if they'd like to play again"
   ]
  },
  {
   "cell_type": "markdown",
   "metadata": {},
   "source": [
    "## Playing Cards\n",
    "A standard deck of playing cards has four suits (Hearts, Diamonds, Spades and Clubs) and thirteen ranks (2 through 10, then the face cards Jack, Queen, King and Ace) for a total of 52 cards per deck. Jacks, Queens and Kings all have a rank of 10. Aces have a rank of either 11 or 1 as needed to reach 21 without busting. As a starting point in your program, you may want to assign variables to store a list of suits, ranks, and then use a dictionary to map ranks to values."
   ]
  },
  {
   "cell_type": "markdown",
   "metadata": {},
   "source": [
    "## The Game\n",
    "### Imports and Global Variables\n",
    "** Step 1: Import the random module. This will be used to shuffle the deck prior to dealing. Then, declare variables to store suits, ranks and values. You can develop your own system, or copy ours below. Finally, declare a Boolean value to be used to control <code>while</code> loops. This is a common practice used to control the flow of the game.**\n",
    "\n",
    "    suits = ('Hearts', 'Diamonds', 'Spades', 'Clubs')\n",
    "    ranks = ('Two', 'Three', 'Four', 'Five', 'Six', 'Seven', 'Eight', 'Nine', 'Ten', 'Jack', 'Queen', 'King', 'Ace')\n",
    "    values = {'Two':2, 'Three':3, 'Four':4, 'Five':5, 'Six':6, 'Seven':7, 'Eight':8, 'Nine':9, 'Ten':10, 'Jack':10,\n",
    "             'Queen':10, 'King':10, 'Ace':11}"
   ]
  },
  {
   "cell_type": "code",
   "execution_count": 254,
   "metadata": {},
   "outputs": [],
   "source": [
    "import random\n",
    "\n",
    "suits = ('Hearts', 'Diamonds', 'Spades', 'Clubs')\n",
    "ranks = ('Two', 'Three', 'Four', 'Five', 'Six', 'Seven', 'Eight', 'Nine', 'Ten', 'Jack', 'Queen', 'King', 'Ace')\n",
    "values = {'Two':2, 'Three':3, 'Four':4, 'Five':5, 'Six':6, 'Seven':7, 'Eight':8, \n",
    "            'Nine':9, 'Ten':10, 'Jack':10, 'Queen':10, 'King':10, 'Ace':11}\n",
    "\n",
    "playing = True"
   ]
  },
  {
   "cell_type": "markdown",
   "metadata": {},
   "source": [
    "# To clear screen output"
   ]
  },
  {
   "cell_type": "code",
   "execution_count": 253,
   "metadata": {},
   "outputs": [],
   "source": [
    "from IPython.display import clear_output\n",
    "clear_output()"
   ]
  },
  {
   "cell_type": "markdown",
   "metadata": {},
   "source": [
    "### Class Definitions\n",
    "Consider making a Card class where each Card object has a suit and a rank, then a Deck class to hold all 52 Card objects, and can be shuffled, and finally a Hand class that holds those Cards that have been dealt to each player from the Deck."
   ]
  },
  {
   "cell_type": "markdown",
   "metadata": {},
   "source": [
    "**Step 2: Create a Card Class**<br>\n",
    "A Card object really only needs two attributes: suit and rank. You might add an attribute for \"value\" - we chose to handle value later when developing our Hand class.<br>In addition to the Card's \\_\\_init\\_\\_ method, consider adding a \\_\\_str\\_\\_ method that, when asked to print a Card, returns a string in the form \"Two of Hearts\""
   ]
  },
  {
   "cell_type": "code",
   "execution_count": 14,
   "metadata": {},
   "outputs": [],
   "source": [
    "class Card:\n",
    "    \n",
    "    def __init__(self,suit,rank):\n",
    "        self.suit = suit\n",
    "        self.rank = rank\n",
    "        self.value = values[rank]\n",
    "        \n",
    "    def __str__(self):\n",
    "        return self.rank + ' of ' + self.suit"
   ]
  },
  {
   "cell_type": "markdown",
   "metadata": {},
   "source": [
    "**Step 3: Create a Deck Class**<br>\n",
    "Here we might store 52 card objects in a list that can later be shuffled. First, though, we need to *instantiate* all 52 unique card objects and add them to our list. So long as the Card class definition appears in our code, we can build Card objects inside our Deck \\_\\_init\\_\\_ method. Consider iterating over sequences of suits and ranks to build out each card. This might appear inside a Deck class \\_\\_init\\_\\_ method:\n",
    "\n",
    "    for suit in suits:\n",
    "        for rank in ranks:\n",
    "\n",
    "In addition to an \\_\\_init\\_\\_ method we'll want to add methods to shuffle our deck, and to deal out cards during gameplay.<br><br>\n",
    "OPTIONAL: We may never need to print the contents of the deck during gameplay, but having the ability to see the cards inside it may help troubleshoot any problems that occur during development. With this in mind, consider adding a \\_\\_str\\_\\_ method to the class definition."
   ]
  },
  {
   "cell_type": "code",
   "execution_count": 146,
   "metadata": {},
   "outputs": [],
   "source": [
    "class Deck:\n",
    "    \n",
    "    def __init__(self):\n",
    "        self.deck = []  # start with an empty list\n",
    "        for suit in suits:\n",
    "            for rank in ranks:\n",
    "                self.deck.append(Card(suit,rank))\n",
    "    \n",
    "    def __str__(self):\n",
    "        deck_comp = ''  # start with an empty string\n",
    "        for card in self.deck:\n",
    "            deck_comp += '\\n '+card.__str__() # add each Card object's print string ATTENTION\n",
    "        return 'The deck has:' + deck_comp\n",
    "\n",
    "    def shuffle(self):\n",
    "        random.shuffle(self.deck)\n",
    "        \n",
    "    def deal(self):\n",
    "        return self.deck.pop() #the last element is popped and removed = .pop(-1)"
   ]
  },
  {
   "cell_type": "markdown",
   "metadata": {},
   "source": [
    "TESTING: Just to see that everything works so far, let's see what our Deck looks like!"
   ]
  },
  {
   "cell_type": "code",
   "execution_count": 54,
   "metadata": {},
   "outputs": [],
   "source": [
    "test_deck = Deck()\n",
    "test_deck.shuffle()"
   ]
  },
  {
   "cell_type": "code",
   "execution_count": 55,
   "metadata": {},
   "outputs": [
    {
     "name": "stdout",
     "output_type": "stream",
     "text": [
      "The deck has:\n",
      " Five of Spades\n",
      " Four of Clubs\n",
      " Ace of Hearts\n",
      " Queen of Hearts\n",
      " Queen of Spades\n",
      " Six of Hearts\n",
      " Ace of Diamonds\n",
      " Jack of Clubs\n",
      " Four of Hearts\n",
      " King of Diamonds\n",
      " Ten of Diamonds\n",
      " Eight of Spades\n",
      " Three of Diamonds\n",
      " Seven of Diamonds\n",
      " Two of Diamonds\n",
      " Four of Diamonds\n",
      " Jack of Spades\n",
      " King of Spades\n",
      " Seven of Hearts\n",
      " Ten of Spades\n",
      " Seven of Clubs\n",
      " Jack of Hearts\n",
      " Three of Clubs\n",
      " Five of Clubs\n",
      " Six of Clubs\n",
      " Nine of Spades\n",
      " Five of Hearts\n",
      " Eight of Diamonds\n",
      " Two of Hearts\n",
      " Three of Spades\n",
      " Two of Spades\n",
      " Eight of Clubs\n",
      " Ace of Clubs\n",
      " Nine of Hearts\n",
      " Eight of Hearts\n",
      " Two of Clubs\n",
      " Six of Spades\n",
      " Six of Diamonds\n",
      " Ten of Clubs\n",
      " Ten of Hearts\n",
      " Queen of Diamonds\n",
      " Four of Spades\n",
      " King of Clubs\n",
      " Jack of Diamonds\n",
      " Queen of Clubs\n",
      " Seven of Spades\n",
      " Nine of Clubs\n",
      " Nine of Diamonds\n",
      " Five of Diamonds\n",
      " Ace of Spades\n",
      " King of Hearts\n",
      " Three of Hearts\n"
     ]
    }
   ],
   "source": [
    "print(test_deck)"
   ]
  },
  {
   "cell_type": "code",
   "execution_count": 58,
   "metadata": {},
   "outputs": [
    {
     "name": "stdout",
     "output_type": "stream",
     "text": [
      "King of Hearts\n"
     ]
    }
   ],
   "source": [
    "#Test deal method\n",
    "card = test_deck.deal()\n",
    "print(card) #Also possible: card.__str__()  "
   ]
  },
  {
   "cell_type": "markdown",
   "metadata": {},
   "source": [
    "Great! Now let's move on to our Hand class."
   ]
  },
  {
   "cell_type": "markdown",
   "metadata": {},
   "source": [
    "**Step 4: Create a Hand Class**<br>\n",
    "In addition to holding Card objects dealt from the Deck, the Hand class may be used to calculate the value of those cards using the values dictionary defined above. It may also need to adjust for the value of Aces when appropriate."
   ]
  },
  {
   "cell_type": "code",
   "execution_count": 272,
   "metadata": {},
   "outputs": [],
   "source": [
    "class Hand:\n",
    "    def __init__(self):\n",
    "        self.cards = []  # start with an empty list as we did in the Deck class\n",
    "        self.value = 0   # start with zero value\n",
    "        self.aces = 0    # add an attribute to keep track of aces\n",
    "    \n",
    "    def add_card(self,card):\n",
    "        self.cards.append(card) #it only takes cards by one... loop!\n",
    "        self.value += values[card.rank]\n",
    "        if card.rank == 'Ace':\n",
    "            self.aces += 1  # add to self.aces\n",
    "          \n",
    "    def adjust_for_ace(self):\n",
    "        if self.value > 21 and self.aces>0:\n",
    "            self.value -= 10\n",
    "            self.aces -= 1\n",
    "            print('Ace adjusted to 1')\n",
    "        else:\n",
    "            print('All the Aces are adjusted')\n",
    "    \n",
    "    def __str__(self):\n",
    "        hand_comp = ''  # start with an empty string\n",
    "        for card in self.cards:\n",
    "            hand_comp += '\\n '+card.__str__() # add each Card object's print string ATTENTION\n",
    "        return 'The hand has:' + hand_comp"
   ]
  },
  {
   "cell_type": "code",
   "execution_count": 536,
   "metadata": {},
   "outputs": [
    {
     "data": {
      "text/plain": [
       "15"
      ]
     },
     "execution_count": 536,
     "metadata": {},
     "output_type": "execute_result"
    }
   ],
   "source": [
    "test_deck = Deck()\n",
    "test_deck.shuffle()\n",
    "test_player = Hand()\n",
    "test_player.add_card(test_deck.deal())\n",
    "test_player.add_card(test_deck.deal())\n",
    "test_player.value"
   ]
  },
  {
   "cell_type": "code",
   "execution_count": 537,
   "metadata": {},
   "outputs": [
    {
     "name": "stdout",
     "output_type": "stream",
     "text": [
      "The hand has:\n",
      " Six of Hearts\n",
      " Nine of Clubs\n"
     ]
    }
   ],
   "source": [
    "print(test_player)"
   ]
  },
  {
   "cell_type": "code",
   "execution_count": 538,
   "metadata": {},
   "outputs": [],
   "source": [
    "ace_card = Card('Hearts','Ace')"
   ]
  },
  {
   "cell_type": "code",
   "execution_count": 539,
   "metadata": {},
   "outputs": [],
   "source": [
    "test_player.add_card(ace_card)"
   ]
  },
  {
   "cell_type": "code",
   "execution_count": 540,
   "metadata": {},
   "outputs": [
    {
     "name": "stdout",
     "output_type": "stream",
     "text": [
      "The hand has:\n",
      " Six of Hearts\n",
      " Nine of Clubs\n",
      " Ace of Hearts\n"
     ]
    }
   ],
   "source": [
    "print(test_player)"
   ]
  },
  {
   "cell_type": "code",
   "execution_count": 541,
   "metadata": {},
   "outputs": [
    {
     "data": {
      "text/plain": [
       "26"
      ]
     },
     "execution_count": 541,
     "metadata": {},
     "output_type": "execute_result"
    }
   ],
   "source": [
    "test_player.value"
   ]
  },
  {
   "cell_type": "code",
   "execution_count": 542,
   "metadata": {},
   "outputs": [
    {
     "name": "stdout",
     "output_type": "stream",
     "text": [
      "Ace adjusted to 1\n"
     ]
    }
   ],
   "source": [
    "test_player.adjust_for_ace()"
   ]
  },
  {
   "cell_type": "code",
   "execution_count": 543,
   "metadata": {},
   "outputs": [
    {
     "data": {
      "text/plain": [
       "16"
      ]
     },
     "execution_count": 543,
     "metadata": {},
     "output_type": "execute_result"
    }
   ],
   "source": [
    "test_player.value"
   ]
  },
  {
   "cell_type": "code",
   "execution_count": 544,
   "metadata": {},
   "outputs": [
    {
     "name": "stdout",
     "output_type": "stream",
     "text": [
      "The hand has:\n",
      " Six of Hearts\n",
      " Nine of Clubs\n",
      " Ace of Hearts\n"
     ]
    }
   ],
   "source": [
    "print(test_player)"
   ]
  },
  {
   "cell_type": "code",
   "execution_count": 545,
   "metadata": {},
   "outputs": [
    {
     "name": "stdout",
     "output_type": "stream",
     "text": [
      "All the Aces are adjusted\n"
     ]
    }
   ],
   "source": [
    "test_player.adjust_for_ace()"
   ]
  },
  {
   "cell_type": "code",
   "execution_count": 546,
   "metadata": {},
   "outputs": [
    {
     "name": "stdout",
     "output_type": "stream",
     "text": [
      "The hand has:\n",
      " Six of Hearts\n",
      " Nine of Clubs\n",
      " Ace of Hearts\n"
     ]
    }
   ],
   "source": [
    "print(test_player)"
   ]
  },
  {
   "cell_type": "markdown",
   "metadata": {},
   "source": [
    "**Step 5: Create a Chips Class**<br>\n",
    "In addition to decks of cards and hands, we need to keep track of a Player's starting chips, bets, and ongoing winnings. This could be done using global variables, but in the spirit of object oriented programming, let's make a Chips class instead!"
   ]
  },
  {
   "cell_type": "code",
   "execution_count": 268,
   "metadata": {},
   "outputs": [],
   "source": [
    "class Chips:\n",
    "    \n",
    "    def __init__(self, total=100):\n",
    "        self.total = total  # This can be set to a default value or supplied by a user input\n",
    "        self.bet = 0\n",
    "        \n",
    "    def win_bet(self):\n",
    "        self.total += self.bet\n",
    "    \n",
    "    def lose_bet(self):\n",
    "        self.total -= self.bet\n",
    "        \n",
    "    def __str__(self):\n",
    "        return f'Chips available: {self.total}'"
   ]
  },
  {
   "cell_type": "code",
   "execution_count": 458,
   "metadata": {},
   "outputs": [],
   "source": [
    "test_money = Chips(total=1000)"
   ]
  },
  {
   "cell_type": "code",
   "execution_count": 459,
   "metadata": {},
   "outputs": [
    {
     "name": "stdout",
     "output_type": "stream",
     "text": [
      "Chips available: 1000\n"
     ]
    }
   ],
   "source": [
    "print(test_money)"
   ]
  },
  {
   "cell_type": "code",
   "execution_count": 460,
   "metadata": {},
   "outputs": [],
   "source": [
    "test_money.bet = 100"
   ]
  },
  {
   "cell_type": "code",
   "execution_count": 461,
   "metadata": {},
   "outputs": [
    {
     "data": {
      "text/plain": [
       "1000"
      ]
     },
     "execution_count": 461,
     "metadata": {},
     "output_type": "execute_result"
    }
   ],
   "source": [
    "test_money.total"
   ]
  },
  {
   "cell_type": "code",
   "execution_count": 462,
   "metadata": {},
   "outputs": [],
   "source": [
    "test_money.win_bet()"
   ]
  },
  {
   "cell_type": "code",
   "execution_count": 463,
   "metadata": {},
   "outputs": [
    {
     "data": {
      "text/plain": [
       "1100"
      ]
     },
     "execution_count": 463,
     "metadata": {},
     "output_type": "execute_result"
    }
   ],
   "source": [
    "test_money.total"
   ]
  },
  {
   "cell_type": "code",
   "execution_count": null,
   "metadata": {},
   "outputs": [],
   "source": []
  },
  {
   "cell_type": "markdown",
   "metadata": {},
   "source": [
    "### Function Defintions\n",
    "A lot of steps are going to be repetitive. That's where functions come in! The following steps are guidelines - add or remove functions as needed in your own program."
   ]
  },
  {
   "cell_type": "markdown",
   "metadata": {},
   "source": [
    "**Step 6: Write a function for taking bets**<br>\n",
    "Since we're asking the user for an integer value, this would be a good place to use <code>try</code>/<code>except</code>. Remember to check that a Player's bet can be covered by their available chips."
   ]
  },
  {
   "cell_type": "code",
   "execution_count": 285,
   "metadata": {},
   "outputs": [],
   "source": [
    "player_chips = Chips(total=1000)"
   ]
  },
  {
   "cell_type": "code",
   "execution_count": 468,
   "metadata": {},
   "outputs": [],
   "source": [
    "def take_bet(player_chips):\n",
    "    \n",
    "    bet = 'wrong'\n",
    "    available_bet = False\n",
    "    \n",
    "    while bet.isdigit() == False or available_bet == False:\n",
    "        print(player_chips)\n",
    "        bet = input(\"Place a bet: \")\n",
    "        \n",
    "        if bet.isdigit() == False: #check bet is a digit\n",
    "            clear_output()\n",
    "            print(\"Sorry that is not a digit!\")\n",
    "            \n",
    "        if bet.isdigit() == True:\n",
    "            \n",
    "            if int(bet) > player_chips.total:\n",
    "                clear_output()\n",
    "                print(\"You don't have enough chips!\")\n",
    "            \n",
    "            else:\n",
    "                player_chips.bet = int(bet)\n",
    "                available_bet = True\n",
    "        \n",
    "    return int(bet)"
   ]
  },
  {
   "cell_type": "code",
   "execution_count": 412,
   "metadata": {},
   "outputs": [
    {
     "name": "stdout",
     "output_type": "stream",
     "text": [
      "Chips available: 570\n",
      "Place a bet: 50\n"
     ]
    }
   ],
   "source": [
    "bet = take_bet(player_chips)"
   ]
  },
  {
   "cell_type": "code",
   "execution_count": 414,
   "metadata": {},
   "outputs": [
    {
     "data": {
      "text/plain": [
       "50"
      ]
     },
     "execution_count": 414,
     "metadata": {},
     "output_type": "execute_result"
    }
   ],
   "source": [
    "bet"
   ]
  },
  {
   "cell_type": "code",
   "execution_count": 415,
   "metadata": {},
   "outputs": [
    {
     "data": {
      "text/plain": [
       "520"
      ]
     },
     "execution_count": 415,
     "metadata": {},
     "output_type": "execute_result"
    }
   ],
   "source": [
    "player_chips.total"
   ]
  },
  {
   "cell_type": "markdown",
   "metadata": {},
   "source": [
    "**Step 7: Write a function for taking hits**<br>\n",
    "Either player can take hits until they bust. This function will be called during gameplay anytime a Player requests a hit, or a Dealer's hand is less than 17. It should take in Deck and Hand objects as arguments, and deal one card off the deck and add it to the Hand. You may want it to check for aces in the event that a player's hand exceeds 21."
   ]
  },
  {
   "cell_type": "code",
   "execution_count": 340,
   "metadata": {},
   "outputs": [
    {
     "data": {
      "text/plain": [
       "9"
      ]
     },
     "execution_count": 340,
     "metadata": {},
     "output_type": "execute_result"
    }
   ],
   "source": [
    "test_deck = Deck()\n",
    "test_deck.shuffle()\n",
    "test_player = Hand()\n",
    "test_player.add_card(test_deck.deal())\n",
    "test_player.add_card(test_deck.deal())\n",
    "test_player.value"
   ]
  },
  {
   "cell_type": "code",
   "execution_count": 567,
   "metadata": {},
   "outputs": [],
   "source": [
    "def hit(deck,hand):\n",
    "    hand.add_card(deck.deal())\n",
    "    hand.adjust_for_ace() #Adjust for aces within hit function\n",
    "    \n",
    "    return"
   ]
  },
  {
   "cell_type": "code",
   "execution_count": 566,
   "metadata": {},
   "outputs": [
    {
     "name": "stdout",
     "output_type": "stream",
     "text": [
      "Eight of Hearts\n",
      "All the Aces are adjusted\n",
      "The hand has:\n",
      " Six of Hearts\n",
      " Nine of Clubs\n",
      " Ace of Hearts\n",
      " Four of Spades\n",
      " Eight of Diamonds\n",
      " Eight of Hearts\n"
     ]
    }
   ],
   "source": [
    "hit(test_deck, test_player)\n",
    "print(test_player)"
   ]
  },
  {
   "cell_type": "markdown",
   "metadata": {},
   "source": [
    "**Step 8: Write a function prompting the Player to Hit or Stand**<br>\n",
    "This function should accept the deck and the player's hand as arguments, and assign playing as a global variable.<br>\n",
    "If the Player Hits, employ the hit() function above. If the Player Stands, set the playing variable to False - this will control the behavior of a <code>while</code> loop later on in our code."
   ]
  },
  {
   "cell_type": "code",
   "execution_count": 523,
   "metadata": {},
   "outputs": [],
   "source": [
    "def hit_or_stand(deck,hand):\n",
    "    global playing  # to control an upcoming while loop\n",
    "    \n",
    "    choice = 'wrong' \n",
    "    \n",
    "    while choice != \"H\" or choice != \"S\":\n",
    "        choice = input(\"Do you want to HIT or STAND?(H/S)\")\n",
    "        \n",
    "        if choice == 'H':\n",
    "            clear_output()\n",
    "            hit(deck, hand)\n",
    "            break\n",
    "            \n",
    "        elif choice == 'S':\n",
    "            playing = False\n",
    "            break\n",
    "    \n",
    "    return"
   ]
  },
  {
   "cell_type": "code",
   "execution_count": 549,
   "metadata": {},
   "outputs": [
    {
     "name": "stdout",
     "output_type": "stream",
     "text": [
      "Eight of Diamonds\n"
     ]
    }
   ],
   "source": [
    "hit_or_stand(test_deck, test_player)"
   ]
  },
  {
   "cell_type": "markdown",
   "metadata": {},
   "source": [
    "**Step 9: Write functions to display cards**<br>\n",
    "When the game starts, and after each time Player takes a card, the dealer's first card is hidden and all of Player's cards are visible. At the end of the hand all cards are shown, and you may want to show each hand's total value. Write a function for each of these scenarios."
   ]
  },
  {
   "cell_type": "code",
   "execution_count": 471,
   "metadata": {},
   "outputs": [],
   "source": [
    "def show_some(player,dealer):\n",
    "    print(\"\\nPlayer hand:\")\n",
    "    for card in player.cards:\n",
    "        print(card)\n",
    "    print(\"\\nPlayer's hand's value:\",player.value)\n",
    "    \n",
    "    print('\\nDealer hand:')\n",
    "    print('***HIDDEN CARD***')\n",
    "    total=0\n",
    "    for i in range(len(dealer.cards)-1):\n",
    "        print(dealer.cards[i+1])\n",
    "        total += dealer.cards[i+1].value\n",
    "    print(\"\\nDealer's hand's value:\",total)\n",
    "    \n",
    "    return\n",
    "    \n",
    "def show_all(player,dealer):\n",
    "    print(\"\\nPlayer hand:\")\n",
    "    for card in player.cards:\n",
    "        print(card)\n",
    "    print(\"\\nPlayer's hand's value:\",player.value)\n",
    "        \n",
    "    print(\"\\nDealer hand:\")\n",
    "    for card in dealer.cards:\n",
    "        print(card)\n",
    "    print(\"\\nDealer's hand's value:\",dealer.value)\n",
    "    return"
   ]
  },
  {
   "cell_type": "code",
   "execution_count": 573,
   "metadata": {},
   "outputs": [
    {
     "name": "stdout",
     "output_type": "stream",
     "text": [
      "\n",
      "Player hand:\n",
      "Six of Hearts\n",
      "Nine of Clubs\n",
      "Ace of Hearts\n",
      "Four of Spades\n",
      "Eight of Diamonds\n",
      "Eight of Hearts\n",
      "\n",
      "Player's hand's value: 36\n",
      "\n",
      "Dealer hand:\n",
      "***HIDDEN CARD***\n",
      "Nine of Clubs\n",
      "Ace of Hearts\n",
      "Four of Spades\n",
      "Eight of Diamonds\n",
      "Eight of Hearts\n",
      "\n",
      "Dealer's hand's value: 40\n"
     ]
    }
   ],
   "source": [
    "show_some(test_player, test_player)"
   ]
  },
  {
   "cell_type": "markdown",
   "metadata": {},
   "source": [
    "**Step 10: Write functions to handle end of game scenarios**<br>\n",
    "Remember to pass player's hand, dealer's hand and chips as needed."
   ]
  },
  {
   "cell_type": "code",
   "execution_count": 487,
   "metadata": {},
   "outputs": [],
   "source": [
    "def player_busts(player, dealer, chips):\n",
    "    clear_output()\n",
    "    print(\"\\nPLAYER BUSTS!\")\n",
    "    chips.lose_bet()\n",
    "    return\n",
    "\n",
    "def player_wins(player, dealer, chips):\n",
    "    clear_output()\n",
    "    print(\"\\nPLAYER WINS!\")\n",
    "    chips.win_bet()\n",
    "    return\n",
    "\n",
    "def dealer_busts(player, dealer, chips):\n",
    "    clear_output()\n",
    "    print(\"\\nDealer busts, PLAYER WINS!\")\n",
    "    chips.win_bet()\n",
    "    return\n",
    "    \n",
    "def dealer_wins(player, dealer, chips):\n",
    "    clear_output()\n",
    "    print(\"\\nDEALER WINS!\")\n",
    "    chips.lose_bet()\n",
    "    return\n",
    "    \n",
    "def push(): #WHAT IS THIS FOR?\n",
    "    pass"
   ]
  },
  {
   "cell_type": "markdown",
   "metadata": {},
   "source": [
    "### And now on to the game!!"
   ]
  },
  {
   "cell_type": "code",
   "execution_count": 584,
   "metadata": {},
   "outputs": [
    {
     "name": "stdout",
     "output_type": "stream",
     "text": [
      "\n",
      "Dealer busts, PLAYER WINS!\n",
      "\n",
      "Player hand:\n",
      "Ten of Hearts\n",
      "Nine of Diamonds\n",
      "\n",
      "Player's hand's value: 19\n",
      "\n",
      "Dealer hand:\n",
      "Four of Clubs\n",
      "Ace of Clubs\n",
      "Nine of Spades\n",
      "\n",
      "Dealer's hand's value: 24\n",
      "\n",
      "Total chips:  2000\n",
      "Do you want to play again?(Y/N)\n",
      "\n",
      "Thanks for playing!\n"
     ]
    }
   ],
   "source": [
    "while True:\n",
    "    # Print an opening statement\n",
    "    clear_output()\n",
    "    print(\"Welcome to the game of Black Jack\\n\")\n",
    "\n",
    "    \n",
    "    # Create & shuffle the deck, deal two cards to each player\n",
    "    game_deck = Deck()\n",
    "    game_deck.shuffle()\n",
    "    player = Hand()\n",
    "    dealer = Hand()\n",
    "    #bet = 0 #initiate bet... it can be stored in player_chips... NEEDED?\n",
    "      \n",
    "    # Set up the Player's chips\n",
    "    player_chips = Chips(total=1000)\n",
    "    \n",
    "    # Prompt the Player for their bet\n",
    "    take_bet(player_chips)\n",
    "    \n",
    "    #Deliver two cards for player and dealer. \n",
    "    player.add_card(game_deck.deal())\n",
    "    player.add_card(game_deck.deal())\n",
    "    dealer.add_card(game_deck.deal())\n",
    "    dealer.add_card(game_deck.deal())\n",
    "    \n",
    "    #Show cards (but keep one dealer card hidden)\n",
    "    show_some(player, dealer)\n",
    "    \n",
    "    playing = True #global variable\n",
    "    \n",
    "    while playing:  # recall this variable from our hit_or_stand function\n",
    "        \n",
    "        # Prompt for Player to Hit or Stand. If stand then playing = False\n",
    "        hit_or_stand(game_deck, player)\n",
    "        \n",
    "        # Show cards (but keep one dealer card hidden)\n",
    "        show_some(player, dealer)\n",
    "        \n",
    "        # If player's hand exceeds 21, run player_busts() and break out of loop\n",
    "        if player.value > 21:\n",
    "            player_busts(player, dealer, player_chips)\n",
    "            playing = False\n",
    "            break\n",
    "\n",
    "    # If Player hasn't busted, play Dealer's hand until Dealer reaches 17\n",
    "    while dealer.value < 17 and player.value < 21:\n",
    "        clear_output()\n",
    "        dealer.add_card(game_deck.deal())\n",
    "        break\n",
    "        \n",
    "    # Run different winning scenarios\n",
    "    \n",
    "    if dealer.value > 21: #Dealer busts\n",
    "        dealer_busts(player, dealer, player_chips)\n",
    "            \n",
    "    elif dealer.value > player.value: #Dealer wins\n",
    "        dealer_wins(player, dealer, player_chips)\n",
    "            \n",
    "    elif dealer.value <= player.value and player.value <= 21: #player wins\n",
    "        player_wins(player, dealer, player_chips)\n",
    "    \n",
    "    \n",
    "    #Show all card after end of game\n",
    "    show_all(player, dealer)\n",
    "    \n",
    "    # Inform Player of their chips total \n",
    "    print(\"\\nTotal chips: \",player_chips.total)\n",
    "    \n",
    "    # Ask to play again\n",
    "    new_game = input(\"Do you want to play again?(Y/N)\")\n",
    "        \n",
    "    if new_game =='Y':\n",
    "        playing=True\n",
    "        continue\n",
    "    else:\n",
    "        print(\"\\nThanks for playing!\")\n",
    "        break\n",
    "        \n",
    "        \n",
    "        "
   ]
  },
  {
   "cell_type": "markdown",
   "metadata": {},
   "source": [
    "And that's it! Remember, these steps may differ significantly from your own solution. That's OK! Keep working on different sections of your program until you get the desired results. It takes a lot of time and patience! As always, feel free to post questions and comments to the QA Forums.\n",
    "# Good job!"
   ]
  },
  {
   "cell_type": "code",
   "execution_count": null,
   "metadata": {},
   "outputs": [],
   "source": []
  }
 ],
 "metadata": {
  "kernelspec": {
   "display_name": "Python 3",
   "language": "python",
   "name": "python3"
  },
  "language_info": {
   "codemirror_mode": {
    "name": "ipython",
    "version": 3
   },
   "file_extension": ".py",
   "mimetype": "text/x-python",
   "name": "python",
   "nbconvert_exporter": "python",
   "pygments_lexer": "ipython3",
   "version": "3.7.6"
  }
 },
 "nbformat": 4,
 "nbformat_minor": 1
}
