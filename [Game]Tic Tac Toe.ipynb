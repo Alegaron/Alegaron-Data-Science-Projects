{
 "cells": [
  {
   "cell_type": "markdown",
   "metadata": {},
   "source": [
    "# Game: Tic Tac Toe\n",
    "\n",
    "Here are the requirements:\n",
    "\n",
    "* 2 players should be able to play the game (both sitting at the same computer)\n",
    "* The board should be printed out every time a player makes a move\n",
    "* You should be able to accept input of the player position and then place a symbol on the board\n"
   ]
  },
  {
   "cell_type": "markdown",
   "metadata": {},
   "source": [
    "## HAVE FUN!"
   ]
  },
  {
   "cell_type": "code",
   "execution_count": 1,
   "metadata": {},
   "outputs": [],
   "source": [
    "from IPython.display import clear_output\n",
    "clear_output()"
   ]
  },
  {
   "cell_type": "code",
   "execution_count": 2,
   "metadata": {},
   "outputs": [
    {
     "name": "stdout",
     "output_type": "stream",
     "text": [
      "Welcome to Tic-Tac-Toe! \n",
      "Enter the number in the board to pick your position \n",
      "GOOD LUCK!\n",
      "\n",
      "Player 1 plays with X\n",
      "Player 2 plays with O\n"
     ]
    }
   ],
   "source": [
    "#Present the game\n",
    "\n",
    "def present_game():\n",
    "    print(\"Welcome to Tic-Tac-Toe! \\nEnter the number in the board to pick your position \\nGOOD LUCK!\\n\")\n",
    "    print(\"Player 1 plays with X\")\n",
    "    print(\"Player 2 plays with O\")\n",
    "    \n",
    "present_game()"
   ]
  },
  {
   "cell_type": "code",
   "execution_count": 3,
   "metadata": {},
   "outputs": [],
   "source": [
    "#Display board\n",
    "\n",
    "def display_game(board):\n",
    "    print(\"\",board[0], \"|\" ,board[1], \"|\" ,board[2], \"\\n -- --- --\\n\" ,board[3], \"|\" ,board[4], \n",
    "      \"|\" ,board[5], \"\\n -- --- --\\n\" ,board[6], \"|\" ,board[7], \"|\" ,board[8],)"
   ]
  },
  {
   "cell_type": "code",
   "execution_count": 4,
   "metadata": {},
   "outputs": [
    {
     "name": "stdout",
     "output_type": "stream",
     "text": [
      " 0 | 1 | 2 \n",
      " -- --- --\n",
      " 3 | 4 | 5 \n",
      " -- --- --\n",
      " 6 | 7 | 8\n"
     ]
    }
   ],
   "source": [
    "board=[0,1,2,3,4,5,6,7,8]\n",
    "display_game(board)"
   ]
  },
  {
   "cell_type": "code",
   "execution_count": 5,
   "metadata": {},
   "outputs": [],
   "source": [
    "# Choose position in board\n",
    "\n",
    "def choose_position(board,player):\n",
    "      \n",
    "    choice = 'wrong'\n",
    "    within_range = False\n",
    "    available_choice = False\n",
    "    \n",
    "    while choice.isdigit() == False or within_range == False or available_choice == False:\n",
    "        display_game(board)\n",
    "        choice = input(\"Pick an available position (0 to 8): \")\n",
    "        \n",
    "        if choice.isdigit() == False: #check choice is a digit\n",
    "            clear_output()\n",
    "            print(\"Sorry that is not a digit!\")\n",
    "        \n",
    "        if choice.isdigit() == True: \n",
    "            \n",
    "            if int(choice) not in range(0,9): #Check choice is in the range (converting to integer)\n",
    "                clear_output()\n",
    "                print(\"Sorry, but you did not choose a valid position (0 to 8)\")\n",
    "                within_range = False\n",
    "                \n",
    "            if int(choice) in range(0,9):\n",
    "                within_range = True\n",
    "    \n",
    "                if board[int(choice)]==\"O\" or board[int(choice)]==\"X\": #Check if position is available\n",
    "                    clear_output()\n",
    "                    print(\"Sorry, that position in taken. Choose another one (0 to 8)\")\n",
    "                    available_choice = False\n",
    "                \n",
    "                else: \n",
    "                    clear_output()\n",
    "                    available_choice = True\n",
    "            \n",
    "            \n",
    "    #Assign choice in board\n",
    "    if player == 1:\n",
    "        board[int(choice)]=\"X\"\n",
    "    elif player == 2:\n",
    "        board[int(choice)]=\"O\"\n",
    "    \n",
    "    clear_output()\n",
    "    #display_game(board)\n",
    "  \n",
    "    return "
   ]
  },
  {
   "cell_type": "code",
   "execution_count": 6,
   "metadata": {},
   "outputs": [],
   "source": [
    "def check_result(board, end_game):  \n",
    "        \n",
    "    if board[0]=='X' and board[1]=='X' and board[2]=='X': #horizontal X\n",
    "        print('PLAYER 1 WINS!')\n",
    "        end_game = True\n",
    "    elif board[3]=='X' and board[4]=='X' and board[5]=='X':\n",
    "        print('PLAYER 1 WINS!')\n",
    "        end_game = True\n",
    "    elif board[6]=='X' and board[7]=='X' and board[8]=='X':\n",
    "        print('PLAYER 1 WINS!')\n",
    "        end_game = True\n",
    "    elif board[0]=='X' and board[3]=='X' and board[6]=='X':#Vertical X\n",
    "        print('PLAYER 1 WINS!')\n",
    "        end_game = True\n",
    "    elif board[1]=='X' and board[4]=='X' and board[7]=='X':\n",
    "        print('PLAYER 1 WINS!')\n",
    "        end_game = True\n",
    "    elif board[2]=='X' and board[5]=='X' and board[8]=='X':\n",
    "        print('PLAYER 1 WINS!')\n",
    "        end_game = True\n",
    "    elif board[0]=='X' and board[4]=='X' and board[8]=='X':#Diagonal X\n",
    "        print('PLAYER 1 WINS!')\n",
    "        end_game = True\n",
    "    elif board[2]=='X' and board[4]=='X' and board[6]=='X':\n",
    "        print('PLAYER 1 WINS!')\n",
    "        end_game = True\n",
    "    \n",
    "    if board[0]=='O' and board[1]=='O' and board[2]=='O': #horizontal O\n",
    "        print('PLAYER 2 WINS!')\n",
    "        end_game = True\n",
    "    elif board[3]=='O' and board[4]=='O' and board[5]=='O':\n",
    "        print('PLAYER 2 WINS!')\n",
    "        end_game = True\n",
    "    elif board[6]=='O' and board[7]=='O' and board[8]=='O':\n",
    "        print('PLAYER 2 WINS!')\n",
    "        end_game = True\n",
    "    elif board[0]=='O' and board[3]=='O' and board[6]=='O':#Vertical O\n",
    "        print('PLAYER 2 WINS!')\n",
    "        end_game = True\n",
    "    elif board[1]=='O' and board[4]=='O' and board[7]=='O':\n",
    "        print('PLAYER 2 WINS!')\n",
    "        end_game = True\n",
    "    elif board[2]=='O' and board[5]=='O' and board[8]=='O':\n",
    "        print('PLAYER 2 WINS!')\n",
    "        end_game = True\n",
    "    elif board[0]=='O' and board[4]=='O' and board[8]=='O':#Diagonal O\n",
    "        print('PLAYER 2 WINS!')\n",
    "        end_game = True\n",
    "    elif board[2]=='O' and board[4]=='O' and board[6]=='O':\n",
    "        print('PLAYER 2 WINS!')\n",
    "        end_game = True\n",
    "    \n",
    "    for i in board:# if board is complete without winner > DRAW!\n",
    "        draw = True\n",
    "        if i in range(0,9):\n",
    "            draw = False\n",
    "\n",
    "    if draw == True:\n",
    "        print(\"IT IS A DRAW\")\n",
    "        end_game = True\n",
    "      \n",
    "    return end_game"
   ]
  },
  {
   "cell_type": "code",
   "execution_count": 7,
   "metadata": {},
   "outputs": [
    {
     "name": "stdout",
     "output_type": "stream",
     "text": [
      "PLAYER 2 WINS!\n",
      " X | X | O \n",
      " -- --- --\n",
      " X | O | 5 \n",
      " -- --- --\n",
      " O | 7 | 8\n"
     ]
    }
   ],
   "source": [
    "# COMPLETE GAME\n",
    "present_game()\n",
    "\n",
    "board=[0,1,2,3,4,5,6,7,8]\n",
    "player = 1\n",
    "end_game = False\n",
    "\n",
    "while end_game == False:\n",
    "\n",
    "    print(\"\\nPlayer\",player,\"chooses\\n\")\n",
    "\n",
    "    choose_position(board,player)\n",
    "    \n",
    "    end_game = check_result(board, end_game)\n",
    "    \n",
    "    #Change player\n",
    "    if player == 1:\n",
    "        player = 2\n",
    "    else:\n",
    "        player = 1\n",
    "\n",
    "display_game(board) "
   ]
  },
  {
   "cell_type": "code",
   "execution_count": null,
   "metadata": {},
   "outputs": [],
   "source": []
  },
  {
   "cell_type": "code",
   "execution_count": null,
   "metadata": {},
   "outputs": [],
   "source": []
  }
 ],
 "metadata": {
  "kernelspec": {
   "display_name": "Python 3",
   "language": "python",
   "name": "python3"
  },
  "language_info": {
   "codemirror_mode": {
    "name": "ipython",
    "version": 3
   },
   "file_extension": ".py",
   "mimetype": "text/x-python",
   "name": "python",
   "nbconvert_exporter": "python",
   "pygments_lexer": "ipython3",
   "version": "3.7.6"
  }
 },
 "nbformat": 4,
 "nbformat_minor": 1
}
